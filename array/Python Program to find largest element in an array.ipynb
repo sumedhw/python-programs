{
 "cells": [
  {
   "cell_type": "code",
   "execution_count": 12,
   "id": "221ec0e5",
   "metadata": {},
   "outputs": [
    {
     "name": "stdout",
     "output_type": "stream",
     "text": [
      "max number is 9808\n",
      "max number is 9808\n",
      "max number is 9808\n",
      "max number is 9808\n",
      "max number is 9808\n",
      "max number is [9808]\n"
     ]
    }
   ],
   "source": [
    "from functools import reduce\n",
    "import heapq\n",
    "\n",
    "\n",
    "arr = [10, 324, 45, 90, 9808,11]\n",
    "\n",
    "# method 1\n",
    "max_number = arr[0]\n",
    "\n",
    "for ele in arr:\n",
    "    if ele > max_number:\n",
    "        max_number = ele\n",
    "\n",
    "print(\"max number is\", max_number)\n",
    "\n",
    "\n",
    "\n",
    "# method 2\n",
    "lis = [10, 324, 45, 90, 9808,11]\n",
    "lis.sort(reverse=True)\n",
    "print(\"max number is\", lis[0])\n",
    "\n",
    "\n",
    "\n",
    "#method 3\n",
    "print(\"max number is\", max(arr))\n",
    "\n",
    "\n",
    "\n",
    "# method 4\n",
    "max_num = reduce(max,arr)\n",
    "print(\"max number is\", max_num)\n",
    "\n",
    "\n",
    "# method 5\n",
    "max_num1 = reduce(lambda x,y:x if x>y else y,arr)\n",
    "print(\"max number is\", max_num)\n",
    "\n",
    "# method 6\n",
    "max_num2 = heapq.nlargest(1,arr)\n",
    "print(\"max number is\", max_num2)\n"
   ]
  }
 ],
 "metadata": {
  "kernelspec": {
   "display_name": "Python 3 (ipykernel)",
   "language": "python",
   "name": "python3"
  },
  "language_info": {
   "codemirror_mode": {
    "name": "ipython",
    "version": 3
   },
   "file_extension": ".py",
   "mimetype": "text/x-python",
   "name": "python",
   "nbconvert_exporter": "python",
   "pygments_lexer": "ipython3",
   "version": "3.8.10"
  }
 },
 "nbformat": 4,
 "nbformat_minor": 5
}
