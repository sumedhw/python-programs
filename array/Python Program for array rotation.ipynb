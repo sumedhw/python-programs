{
 "cells": [
  {
   "cell_type": "code",
   "execution_count": 5,
   "id": "91d55fae",
   "metadata": {},
   "outputs": [
    {
     "name": "stdout",
     "output_type": "stream",
     "text": [
      "[1, 2, 3, 4, 5, 6]\n",
      "Rotated list is\n",
      "[3, 4, 5, 6, 1, 2]\n"
     ]
    }
   ],
   "source": [
    "\n",
    "# method 1 ( Using List slicing )\n",
    "\n",
    "def rotationList(arr,d,n):\n",
    "    arr1 =  arr[d:n] + arr[0:d]\n",
    "    return arr1\n",
    "\n",
    "arr = [1, 2, 3, 4, 5, 6]\n",
    "print(arr)\n",
    "print(\"Rotated list is\")\n",
    "print(rotationList(arr,2,len(arr)))\n",
    "\n",
    "\n",
    "# mrthod 3"
   ]
  },
  {
   "cell_type": "markdown",
   "id": "d0f9bbab",
   "metadata": {},
   "source": [
    "#### METHOD 2 (Using temp array):\n",
    "\n",
    "Input arr[] = [1, 2, 3, 4, 5, 6, 7], d = 2, n =7\n",
    "\n",
    "1) Store d elements in a temp array\n",
    "   temp[] = [1, 2]\n",
    "\n",
    "2) Shift rest of the arr[]\n",
    "   arr[] = [3, 4, 5, 6, 7, 6, 7]\n",
    "\n",
    "3) Store back the d elements\n",
    "   arr[] = [3, 4, 5, 6, 7, 1, 2]\n",
    "\n"
   ]
  },
  {
   "cell_type": "code",
   "execution_count": 14,
   "id": "66312efb",
   "metadata": {},
   "outputs": [
    {
     "name": "stdout",
     "output_type": "stream",
     "text": [
      "Array after left rotation is:  [3, 4, 5, 6, 7, 1, 2]\n"
     ]
    }
   ],
   "source": [
    "# function to rotate array by d elements using temp array\n",
    "def rotateArray(arr, n, d):\n",
    "    temp = []\n",
    "    i = 0\n",
    "    \n",
    "    while i < d:\n",
    "        temp.append(arr[i])\n",
    "        i = i + 1\n",
    "    \n",
    "    \n",
    "    i = 0\n",
    "    while d < n:\n",
    "        arr[i] = arr[d]\n",
    "        i = i+1\n",
    "        d = d+1\n",
    "        \n",
    "    arr[:] = arr[:i] + temp\n",
    "    \n",
    "    return arr\n",
    "\n",
    "# Driver function to test above function\n",
    "arr = [1, 2, 3, 4, 5, 6, 7]\n",
    "print(\"Array after left rotation is: \", end=' ')\n",
    "print(rotateArray(arr, len(arr), 2))\n",
    "\n",
    "\n"
   ]
  }
 ],
 "metadata": {
  "kernelspec": {
   "display_name": "Python 3 (ipykernel)",
   "language": "python",
   "name": "python3"
  },
  "language_info": {
   "codemirror_mode": {
    "name": "ipython",
    "version": 3
   },
   "file_extension": ".py",
   "mimetype": "text/x-python",
   "name": "python",
   "nbconvert_exporter": "python",
   "pygments_lexer": "ipython3",
   "version": "3.8.10"
  }
 },
 "nbformat": 4,
 "nbformat_minor": 5
}
