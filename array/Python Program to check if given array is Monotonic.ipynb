{
 "cells": [
  {
   "cell_type": "code",
   "execution_count": 3,
   "id": "a559d882",
   "metadata": {},
   "outputs": [
    {
     "name": "stdout",
     "output_type": "stream",
     "text": [
      "True\n"
     ]
    }
   ],
   "source": [
    "# method 1\n",
    "def isMonotonic(arr):\n",
    "    \n",
    "    return (\n",
    "        all([ arr[i] >= arr[i+1] for i in range(len(arr) -1)]) or\n",
    "        all( [ arr[i] <= arr[i+1] for i in range(len(arr) -1)] )\n",
    "    )\n",
    "\n",
    "\n",
    "\n",
    "A = [6, 5, 4, 4]\n",
    "  \n",
    "# Print required result\n",
    "print(isMonotonic(A))"
   ]
  },
  {
   "cell_type": "code",
   "execution_count": 9,
   "id": "33ae7f4d",
   "metadata": {},
   "outputs": [
    {
     "name": "stdout",
     "output_type": "stream",
     "text": [
      "True\n"
     ]
    }
   ],
   "source": [
    "# method 2 ( T= O(n), S=O(1) )\n",
    "\n",
    "def is_monotonic(arr):\n",
    "    is_increasing, is_descreasing = True, True\n",
    "    \n",
    "    for ele in range(len(arr)-1):\n",
    "        if arr[ele] > arr[ele+1]:\n",
    "                is_increasing = False\n",
    "                \n",
    "        if arr[ele] > arr[ele+1]:\n",
    "                is_increasing = False\n",
    "        \n",
    "        return is_increasing or is_descreasing\n",
    "\n",
    "\n",
    "arr = [100, 34,6,5,4,4]\n",
    "\n",
    "print(is_monotonic(arr))"
   ]
  },
  {
   "cell_type": "code",
   "execution_count": 12,
   "id": "42fb25d4",
   "metadata": {},
   "outputs": [
    {
     "name": "stdout",
     "output_type": "stream",
     "text": [
      "True\n"
     ]
    }
   ],
   "source": [
    "# method 3\n",
    "\n",
    "def is_monotonic(nums):\n",
    "    nums_inc = sorted(nums)\n",
    "    # in decreasing order\n",
    "    nums_des = nums_inc[::-1]\n",
    "    #evalutaing the nums is in increasing or decreasing order\n",
    "    if nums  == nums_inc or nums == nums_des:\n",
    "        return True\n",
    "    else:\n",
    "        return False\n",
    "\n",
    "\n",
    "arr = [100, 34,6,5,4,4]\n",
    "\n",
    "print(is_monotonic(arr))"
   ]
  }
 ],
 "metadata": {
  "kernelspec": {
   "display_name": "Python 3 (ipykernel)",
   "language": "python",
   "name": "python3"
  },
  "language_info": {
   "codemirror_mode": {
    "name": "ipython",
    "version": 3
   },
   "file_extension": ".py",
   "mimetype": "text/x-python",
   "name": "python",
   "nbconvert_exporter": "python",
   "pygments_lexer": "ipython3",
   "version": "3.8.10"
  }
 },
 "nbformat": 4,
 "nbformat_minor": 5
}
