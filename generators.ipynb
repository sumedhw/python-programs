{
 "cells": [
  {
   "cell_type": "code",
   "execution_count": 5,
   "id": "2961451b",
   "metadata": {},
   "outputs": [
    {
     "name": "stdout",
     "output_type": "stream",
     "text": [
      "size of list =  136\n",
      "size of range function (iterator) =  48\n",
      "1\n",
      "2\n",
      "3\n",
      "4\n",
      "5\n",
      "6\n",
      "7\n",
      "8\n",
      "9\n",
      "10\n",
      "1\n",
      "2\n",
      "3\n",
      "4\n",
      "5\n",
      "6\n",
      "7\n",
      "8\n",
      "9\n",
      "10\n",
      "<class 'range'>\n",
      "range is iterator\n"
     ]
    }
   ],
   "source": [
    "import sys \n",
    "\n",
    "x = [1,2,3,4,5,6,7,8,9,10]\n",
    "\n",
    "\n",
    "print('size of list = ',sys.getsizeof(x))\n",
    "print('size of range function (iterator) = ',sys.getsizeof(range(1,11)))\n",
    "\n",
    "for element in x:\n",
    "    print(element)\n",
    "    \n",
    "for num in range(1,11):\n",
    "    print(num)\n",
    "\n",
    "print(type(range(1,11)))\n",
    "\n",
    "try:\n",
    "    iter(range(1,11))\n",
    "    print('range is iterator')\n",
    "except TypeError:\n",
    "   print('range is not iterator')\n",
    "\n"
   ]
  },
  {
   "cell_type": "markdown",
   "id": "c1c9c881",
   "metadata": {},
   "source": [
    "An iterator is an object, which is used to iterate over an iterable object using the __next__() method. Iterators have the __next__() method, which returns the next item of the object. Note that every iterator is also an iterable, but not every iterable is an iterator. \n",
    "\n",
    "For example, a list is iterable but a list is not an iterator. An iterator can be created from an iterable by using the function iter().\n",
    "\n",
    "range function return <class 'range'> that is iterator"
   ]
  },
  {
   "cell_type": "markdown",
   "id": "0590c489",
   "metadata": {},
   "source": [
    "# iterator vs iterable\n"
   ]
  },
  {
   "cell_type": "markdown",
   "id": "b1818876",
   "metadata": {},
   "source": [
    "List is iterable but not iterator.\n",
    "\n",
    "Iterators : An iterator is an object that implements the iterator protocol. In other words, an iterator is an object that implements the following methods:\n",
    "\n",
    "__iter__ returns the iterator object itself.\n",
    "__next__ returns the next element.\n",
    "\n",
    "Once you complete iterating a collection using an iterator, the iterator becomes exhausted.\n",
    "\n",
    "It means that you cannot use the iterator object again.\n",
    "\n",
    "Iterables : An iterable is an object that you can iterate over.\n",
    "\n",
    "An object is iterable when it implements the __iter__ method. And its __iter__ method returns a new iterator.\n",
    "\n",
    "\n",
    "Summary\n",
    "An iterable is an object that implements the __iter__ method which returns an iterator.\n",
    "An iterator is an object that implements the __iter__ method which returns itself and the __next__ method which returns the next element.\n",
    "Iterators are also iterables. However, they’re iterables that become exhausted while iterables will never exhausted."
   ]
  }
 ],
 "metadata": {
  "kernelspec": {
   "display_name": "Python 3 (ipykernel)",
   "language": "python",
   "name": "python3"
  },
  "language_info": {
   "codemirror_mode": {
    "name": "ipython",
    "version": 3
   },
   "file_extension": ".py",
   "mimetype": "text/x-python",
   "name": "python",
   "nbconvert_exporter": "python",
   "pygments_lexer": "ipython3",
   "version": "3.8.10"
  }
 },
 "nbformat": 4,
 "nbformat_minor": 5
}
