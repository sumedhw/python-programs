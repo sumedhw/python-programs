{
 "cells": [
  {
   "cell_type": "code",
   "execution_count": null,
   "id": "081d2c01",
   "metadata": {},
   "outputs": [],
   "source": [
    "import sys \n",
    "\n",
    "x = [1,2,3,4,5,6,7,8,9,10]\n",
    "\n",
    "\n",
    "print('size of list = ',sys.getsizeof(x))\n",
    "print('size of range function (iterator) = ',sys.getsizeof(range(1,11)))\n",
    "\n",
    "for element in x:\n",
    "    print(element)\n",
    "    \n",
    "for num in range(1,11):\n",
    "    print(num)\n",
    "\n",
    "print(type(range(1,11)))\n",
    "\n",
    "try:\n",
    "    iter(range(1,11))\n",
    "    print('range is iterable')\n",
    "except TypeError:\n",
    "   print('range is not iterable')\n",
    "\n"
   ]
  },
  {
   "cell_type": "markdown",
   "id": "c1c9c881",
   "metadata": {},
   "source": [
    "An iterator is an object, which is used to iterate over an iterable object using the __next__() method. Iterators have the __next__() method, which returns the next item of the object. Note that every iterator is also an iterable, but not every iterable is an iterator. \n",
    "\n",
    "For example, a list is iterable but a list is not an iterator. An iterator can be created from an iterable by using the function iter().\n",
    "\n",
    "range function return <class 'range'>"
   ]
  },
  {
   "cell_type": "markdown",
   "id": "3b39b1c9",
   "metadata": {},
   "source": [
    "# iterator vs iterable\n"
   ]
  },
  {
   "cell_type": "markdown",
   "id": "11852982",
   "metadata": {},
   "source": [
    "List is iterable but not iterator.\n",
    "\n",
    "Iterators : An iterator is an object that implements the iterator protocol. In other words, an iterator is an object that implements the following methods:\n",
    "\n",
    "__iter__ returns the iterator object itself.\n",
    "__next__ returns the next element.\n",
    "\n",
    "Once you complete iterating a collection using an iterator, the iterator becomes exhausted.\n",
    "\n",
    "It means that you cannot use the iterator object again.\n",
    "\n",
    "Iterables : An iterable is an object that you can iterate over.\n",
    "\n",
    "An object is iterable when it implements the __iter__ method. And its __iter__ method returns a new iterator.\n",
    "\n",
    "\n",
    "Summary\n",
    "An iterable is an object that implements the __iter__ method which returns an iterator.\n",
    "An iterator is an object that implements the __iter__ method which returns itself and the __next__ method which returns the next element.\n",
    "Iterators are also iterables. However, they’re iterables that become exhausted while iterables will never exhausted.\n",
    "\n",
    "\n",
    "\n",
    "we can generate as we looped through it. And that is really what an iterator"
   ]
  },
  {
   "cell_type": "code",
   "execution_count": 8,
   "id": "e4dba4b8",
   "metadata": {},
   "outputs": [
    {
     "name": "stdout",
     "output_type": "stream",
     "text": [
      "152\n",
      "48\n"
     ]
    }
   ],
   "source": [
    "import sys\n",
    "\n",
    "x = [1,2,3,4,5,6,7,8,9,10]\n",
    "\n",
    "y = map(lambda x: x ** 2, x)\n",
    "\n",
    "print(sys.getsizeof(list(y)))\n",
    "print(sys.getsizeof(y))"
   ]
  },
  {
   "cell_type": "markdown",
   "id": "8732befc",
   "metadata": {},
   "source": [
    "# Creating Legacy iterator\n"
   ]
  },
  {
   "cell_type": "code",
   "execution_count": 15,
   "id": "08cea0ba",
   "metadata": {},
   "outputs": [
    {
     "name": "stdout",
     "output_type": "stream",
     "text": [
      "0\n",
      "1\n",
      "2\n",
      "3\n",
      "4\n",
      "5\n"
     ]
    },
    {
     "ename": "StopIteration",
     "evalue": "",
     "output_type": "error",
     "traceback": [
      "\u001b[0;31m---------------------------------------------------------------------------\u001b[0m",
      "\u001b[0;31mStopIteration\u001b[0m                             Traceback (most recent call last)",
      "Input \u001b[0;32mIn [15]\u001b[0m, in \u001b[0;36m<cell line: 36>\u001b[0;34m()\u001b[0m\n\u001b[1;32m     34\u001b[0m \u001b[38;5;28mprint\u001b[39m(\u001b[38;5;28mnext\u001b[39m(itr))\n\u001b[1;32m     35\u001b[0m \u001b[38;5;28mprint\u001b[39m(\u001b[38;5;28mnext\u001b[39m(itr))\n\u001b[0;32m---> 36\u001b[0m \u001b[38;5;28mprint\u001b[39m(\u001b[38;5;28;43mnext\u001b[39;49m\u001b[43m(\u001b[49m\u001b[43mitr\u001b[49m\u001b[43m)\u001b[49m)\n",
      "Input \u001b[0;32mIn [15]\u001b[0m, in \u001b[0;36mIter.__next__\u001b[0;34m(self)\u001b[0m\n\u001b[1;32m     10\u001b[0m \u001b[38;5;28mself\u001b[39m\u001b[38;5;241m.\u001b[39mcurrent \u001b[38;5;241m+\u001b[39m\u001b[38;5;241m=\u001b[39m\u001b[38;5;241m1\u001b[39m\n\u001b[1;32m     12\u001b[0m \u001b[38;5;28;01mif\u001b[39;00m \u001b[38;5;28mself\u001b[39m\u001b[38;5;241m.\u001b[39mcurrent \u001b[38;5;241m>\u001b[39m \u001b[38;5;28mself\u001b[39m\u001b[38;5;241m.\u001b[39mn:\n\u001b[0;32m---> 13\u001b[0m     \u001b[38;5;28;01mraise\u001b[39;00m \u001b[38;5;167;01mStopIteration\u001b[39;00m\n\u001b[1;32m     15\u001b[0m \u001b[38;5;28;01mreturn\u001b[39;00m \u001b[38;5;28mself\u001b[39m\u001b[38;5;241m.\u001b[39mcurrent\n",
      "\u001b[0;31mStopIteration\u001b[0m: "
     ]
    }
   ],
   "source": [
    "class Iter:\n",
    "    def __init__(self,n):\n",
    "        self.n = n\n",
    "        \n",
    "    def __iter__(self):\n",
    "        self.current = -1\n",
    "        return self\n",
    "    \n",
    "    def __next__(self):\n",
    "        self.current +=1\n",
    "        \n",
    "        if self.current > self.n:\n",
    "            raise StopIteration\n",
    "            \n",
    "        return self.current\n",
    "    \n",
    "\n",
    "x = Iter(5)\n",
    "\n",
    "# loop using for loop\n",
    "\n",
    "#for num in x:\n",
    "#    print(num)\n",
    "    \n",
    "    \n",
    "# loop using next method\n",
    "\n",
    "itr = iter(x)\n",
    "\n",
    "print(next(itr))\n",
    "print(next(itr))\n",
    "print(next(itr))\n",
    "print(next(itr))\n",
    "print(next(itr))\n",
    "print(next(itr))\n",
    "print(next(itr))"
   ]
  },
  {
   "cell_type": "markdown",
   "id": "25d17710",
   "metadata": {},
   "source": [
    "# Creating Generator"
   ]
  },
  {
   "cell_type": "markdown",
   "id": "83bded1a",
   "metadata": {},
   "source": [
    "generator is much more elegant and nice way of creating an iterator."
   ]
  },
  {
   "cell_type": "code",
   "execution_count": 17,
   "id": "62040cc8",
   "metadata": {},
   "outputs": [
    {
     "name": "stdout",
     "output_type": "stream",
     "text": [
      "0\n",
      "1\n",
      "2\n",
      "3\n",
      "4\n"
     ]
    }
   ],
   "source": [
    "def gen(n):\n",
    "    for i in range(n):\n",
    "        yield i\n",
    "        \n",
    "for i in gen(5):\n",
    "    print(i)"
   ]
  },
  {
   "cell_type": "code",
   "execution_count": 22,
   "id": "edf3d151",
   "metadata": {},
   "outputs": [
    {
     "name": "stdout",
     "output_type": "stream",
     "text": [
      "1\n",
      "Pause 1\n",
      "2\n",
      "Pause 2\n",
      "3\n",
      "Pause 3\n",
      "4\n"
     ]
    }
   ],
   "source": [
    "def gen():\n",
    "    yield 1\n",
    "    print('Pause 1')\n",
    "    yield 2\n",
    "    print('Pause 2')\n",
    "    yield 3\n",
    "    print('Pause 3')\n",
    "    yield 4\n",
    "    print('Pause 4')\n",
    "    \n",
    "\n",
    "x  = gen()\n",
    "\n",
    "print(next(x))\n",
    "print(next(x))\n",
    "print(next(x))\n",
    "print(next(x))"
   ]
  },
  {
   "cell_type": "code",
   "execution_count": 23,
   "id": "648a2038",
   "metadata": {},
   "outputs": [],
   "source": [
    "# use case : read big file and check word present in file or not\n",
    "\n",
    "def csv_reader(file_name):\n",
    "    for row in open(file_name,'r'):\n",
    "        yield row\n"
   ]
  },
  {
   "cell_type": "code",
   "execution_count": 26,
   "id": "09272eaa",
   "metadata": {},
   "outputs": [
    {
     "name": "stdout",
     "output_type": "stream",
     "text": [
      "<generator object <genexpr> at 0x7fdbe427b970>\n"
     ]
    }
   ],
   "source": [
    "# generator comprehensions ( another way to create generator without yield keyword )\n",
    "\n",
    "x  = (i for i in range(5))\n",
    "\n",
    "print(x)"
   ]
  }
 ],
 "metadata": {
  "kernelspec": {
   "display_name": "Python 3 (ipykernel)",
   "language": "python",
   "name": "python3"
  },
  "language_info": {
   "codemirror_mode": {
    "name": "ipython",
    "version": 3
   },
   "file_extension": ".py",
   "mimetype": "text/x-python",
   "name": "python",
   "nbconvert_exporter": "python",
   "pygments_lexer": "ipython3",
   "version": "3.8.10"
  }
 },
 "nbformat": 4,
 "nbformat_minor": 5
}
