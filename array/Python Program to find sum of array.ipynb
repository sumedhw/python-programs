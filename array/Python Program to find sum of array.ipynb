{
 "cells": [
  {
   "cell_type": "code",
   "execution_count": 24,
   "id": "7cf4202a",
   "metadata": {},
   "outputs": [
    {
     "name": "stdout",
     "output_type": "stream",
     "text": [
      "sum is 170\n",
      "sum is 170\n",
      "sum is 170\n",
      "sum is 170\n",
      "sum is 170\n"
     ]
    }
   ],
   "source": [
    "import array\n",
    "from functools import reduce\n",
    "from operator import add\n",
    "\n",
    "\n",
    "arr = array.array('i',[1,2,3,4,5,6,73,76]) \n",
    "\n",
    "\n",
    "# method 1\n",
    "result = 0\n",
    "\n",
    "for ele in arr:\n",
    "    result += ele\n",
    "\n",
    "print(\"sum is\", result)\n",
    "\n",
    "\n",
    "\n",
    "# method 2 \n",
    "\n",
    "result = sum(arr)\n",
    "\n",
    "print(\"sum is\", result)\n",
    "\n",
    "\n",
    "\n",
    "# method 3 ( from python 3.8 ) (not recommended)\n",
    "total = 0\n",
    "[total := total + x for x in arr]\n",
    "\n",
    "print(\"sum is\", total)\n",
    "\n",
    "\n",
    "\n",
    "# method 4\n",
    "\n",
    "total1 = reduce(lambda x,y : x + y,arr)\n",
    "\n",
    "print(\"sum is\", total1)\n",
    "\n",
    "\n",
    "\n",
    "# method 5\n",
    "\n",
    "total2 = reduce(add,arr)\n",
    "\n",
    "print(\"sum is\", total2)\n"
   ]
  }
 ],
 "metadata": {
  "kernelspec": {
   "display_name": "Python 3 (ipykernel)",
   "language": "python",
   "name": "python3"
  },
  "language_info": {
   "codemirror_mode": {
    "name": "ipython",
    "version": 3
   },
   "file_extension": ".py",
   "mimetype": "text/x-python",
   "name": "python",
   "nbconvert_exporter": "python",
   "pygments_lexer": "ipython3",
   "version": "3.8.10"
  }
 },
 "nbformat": 4,
 "nbformat_minor": 5
}
