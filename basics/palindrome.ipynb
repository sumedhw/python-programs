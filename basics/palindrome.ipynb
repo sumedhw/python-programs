{
 "cells": [
  {
   "cell_type": "code",
   "execution_count": 2,
   "metadata": {},
   "outputs": [
    {
     "name": "stdout",
     "output_type": "stream",
     "text": [
      "True\n",
      "True\n"
     ]
    }
   ],
   "source": [
    "# Palindrom sting \n",
    "\n",
    "# using string reverse\n",
    "def palindrom(s):\n",
    "    temp = s[::-1]\n",
    "    if temp == s:\n",
    "        return True\n",
    "    else:\n",
    "        return False\n",
    "\n",
    "s = 'madam'\n",
    "print(palindrom(s))\n",
    "\n",
    "\n",
    "# Palindrom using for loop\n",
    "def palindrom2(s):\n",
    "    n = len(s)\n",
    "\n",
    "    for i in range(n):\n",
    "        if s[i] != s[n-i-1]:\n",
    "            return False\n",
    "    return True\n",
    "\n",
    "s = 'sumus'\n",
    "print(palindrom2(s))\n",
    "\n",
    "\n"
   ]
  }
 ],
 "metadata": {
  "kernelspec": {
   "display_name": "Python 3",
   "language": "python",
   "name": "python3"
  },
  "language_info": {
   "codemirror_mode": {
    "name": "ipython",
    "version": 3
   },
   "file_extension": ".py",
   "mimetype": "text/x-python",
   "name": "python",
   "nbconvert_exporter": "python",
   "pygments_lexer": "ipython3",
   "version": "3.11.1"
  },
  "orig_nbformat": 4
 },
 "nbformat": 4,
 "nbformat_minor": 2
}
